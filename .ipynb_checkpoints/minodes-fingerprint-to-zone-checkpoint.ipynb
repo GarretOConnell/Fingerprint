{
 "cells": [
  {
   "cell_type": "markdown",
   "metadata": {},
   "source": [
    "# Garret's Solution\n",
    "\n",
    "## Approach\n",
    "\n",
    "I chose five candidate classification algorithms. Four of the algorithms use decision tree estimators to predict labels. Decision trees were predominantely chosen as these estimators can natively handle multiclass outcomes. The fifth algorithm was a Support Vector Machines (SVM) that was chosen as it performs well across a diversity of problems. \n",
    "\n",
    "The models are as follows:\n",
    "\n",
    "1. Extra Trees: computationally cheap algorithm that randomly chooses cut points (lower variance), as opposed to Random Forest that estimats optimum tree cut points (lower bias).\n",
    "\n",
    "\n",
    "2. Random Forest: ensemble method using 'bagging' of decision trees which averages numerous randomized tree estimators, reducing the influence of overfitting trees for a more accurate and generalizable estimator.\n",
    "\n",
    "\n",
    "3-4. Extreme Gradient Boosted Trees (including both Adaboost and XGB implementations of this algorithm): instead of averaging decision trees made in parallel using bagging as per Random Forest, this algorithm builds trees sequentially and therefore learns iteratively.\n",
    "\n",
    "\n",
    "5. SVM: Estimates linear decision boundaries using separating linear hyperplanes.\n",
    "\n",
    "\n",
    "## Steps\n",
    "\n",
    "Breakdown of Steps taken during analysis:\n",
    "\n",
    "\n",
    "1. Imported data from csv to pandas dataframe, and removed all columns except \n",
    "\n",
    "\n",
    "2. Imputed values of non-represented nodes.\n",
    "\n",
    "\n",
    "3. Converted zone codes to numbers in a continuous sequence for prediction labels.\n",
    "\n",
    "\n",
    "4. Subsampled to 25% of total data set to save time for evaluating models during parameter tuning.\n",
    "\n",
    "\n",
    "5. Removed features that aren't likely to inform predictions of zone location (assuming new fingeprints to be predicted will differ in the id and time from training cases).\n",
    "\n",
    "\n",
    "6. Performed matrix algebra to end up with a sparse matrix to allow memory compression for faster training.\n",
    "\n",
    "\n",
    "7. Split data into train and test sets.\n",
    "\n",
    "\n",
    "8. Tuned parameters using grid search.\n",
    "\n",
    "\n",
    "9. Evaluated and compared models based on requested metrics.\n",
    "\n",
    "\n",
    "10. Conclusions on model comparisons and future directions.\n",
    "\n",
    "## Comments\n",
    "* Models were run on an AWS EC2 c8.xlarge instance. Even with this high memory capacity, model training times were very slow (~1.5 hours). For this reason, several model types (e.g. Random Forest, SVM) returned memory errors, even when trained on small fractions of the data. This was partially fixed by compressing the sparse data matrix. Training times were further speeded up by conducted grid search using only 5-fold CV and on only 20% of the data set, sampled equally from each zone."
   ]
  },
  {
   "cell_type": "markdown",
   "metadata": {},
   "source": [
    "### 1. Import data\n",
    "\n",
    "Data was imported and the double quotes around the strings containing dicts were removed."
   ]
  },
  {
   "cell_type": "code",
   "execution_count": 1,
   "metadata": {},
   "outputs": [],
   "source": [
    "# set paths\n",
    "import os\n",
    "import pandas as pd\n",
    "import numpy as np\n",
    "import csv\n",
    "import ast\n",
    "\n",
    "# import data\n",
    "path = os.getcwd()\n",
    "df_dir = os.path.join(os.path.sep.join(path.split(os.path.sep)),'data')\n",
    "df = pd.read_csv(os.path.join(df_dir,'fingerprints_gt_ver3.csv'), index_col = False, quotechar = '\"') \n",
    "\n",
    "# remove double quotes around dict values\n",
    "conv = dict(fr_values=ast.literal_eval)\n",
    "df = pd.read_csv(os.path.join(df_dir,'fingerprints_gt_ver3.csv'),  converters=conv)"
   ]
  },
  {
   "cell_type": "markdown",
   "metadata": {},
   "source": [
    "### 2. Impute values\n",
    "\n",
    "The \"ast\" function used to unpack dictionary values and missing values from the unpacked fr_values column were imputed with -100. "
   ]
  },
  {
   "cell_type": "code",
   "execution_count": 2,
   "metadata": {},
   "outputs": [],
   "source": [
    "# function to unpack dictionary keys as pandas columns and impute missing values\n",
    "def unpack(df, column, fillna=None):\n",
    "    \"\"\"\n",
    "    This function goes through the dictionary values in the fr_values column\n",
    "    and unpacks them into new columns with key value as column name.\n",
    "    \"\"\"\n",
    "    ret = None\n",
    "    if fillna is None:\n",
    "        ret = pd.concat([df, pd.DataFrame((d for idx, d in df[column].iteritems()))], axis=1)\n",
    "        del ret[column]\n",
    "    else:\n",
    "        ret = pd.concat([df, pd.DataFrame((d for idx, d in df[column].iteritems())).fillna(fillna)], axis=1)\n",
    "        del ret[column]\n",
    "    return ret\n",
    "\n",
    "# run function\n",
    "df = unpack(df, 'fr_values', fillna=-100)"
   ]
  },
  {
   "cell_type": "markdown",
   "metadata": {},
   "source": [
    "### 3. Convert zone codes\n",
    "\n",
    "Zone codes were converted to integers and factorized."
   ]
  },
  {
   "cell_type": "code",
   "execution_count": 3,
   "metadata": {},
   "outputs": [],
   "source": [
    "# recode zone names as numeric\n",
    "df['zo_name'] = df['zo_name'].str.replace('[^\\d.]', '')\n",
    "\n",
    "# factorise and record labels for decoding later\n",
    "cat_columns = ['zo_name']\n",
    "label_list = []\n",
    "\n",
    "for column in cat_columns:\n",
    "    \"\"\"\n",
    "    This function converts column levels into sequenital and factorized \n",
    "    categorical levels, keeping original values in dict for later decoding.\n",
    "    \"\"\"\n",
    "\n",
    "    df[column] = df[column].astype('category')\n",
    "    label_list.append(dict( enumerate(df[column].cat.categories) ))\n",
    "    df[column] = df[column].astype('category').cat.codes"
   ]
  },
  {
   "cell_type": "markdown",
   "metadata": {},
   "source": [
    "### 4. Subsample data\n",
    "\n",
    "Data was subsampled to 25% (a percentaged arrived at from trial-and-error of balancing processing time and metric scores). Subsampling was done eveningly across all zones to ensure balanced representation for training."
   ]
  },
  {
   "cell_type": "code",
   "execution_count": 4,
   "metadata": {},
   "outputs": [],
   "source": [
    "import random\n",
    "fraction = 0.5\n",
    "df = df.groupby('zo_name', group_keys=False).apply(lambda x: x.sample(frac=fraction))\n",
    "y = df.zo_name"
   ]
  },
  {
   "cell_type": "markdown",
   "metadata": {},
   "source": [
    "### 5. Remove irrelevant features\n",
    "\n",
    "Time and id features were removed as these are largely uninformative, assuming the purpose of end algorithm is to predict zones from novel fingerprints. The data matrix was then made into a sparse form by adding 100 to all cells, changing all -100 values to zero and make the rest positive integers."
   ]
  },
  {
   "cell_type": "code",
   "execution_count": 5,
   "metadata": {},
   "outputs": [],
   "source": [
    "df.drop(['zo_name','fr_mac_address_id','fr_observation_time'], axis=1, inplace=True)\n",
    "X = df.astype('int8').values\n",
    "X = X+100"
   ]
  },
  {
   "cell_type": "markdown",
   "metadata": {},
   "source": [
    "### 6. Sparse matrix compression\n",
    "\n",
    "Sparse matrices can be compressed with scipy to speed up training for certain algorithms (in this case, the SVM)."
   ]
  },
  {
   "cell_type": "code",
   "execution_count": 6,
   "metadata": {},
   "outputs": [],
   "source": [
    "from scipy.sparse import csr_matrix\n",
    "X = csr_matrix(X)"
   ]
  },
  {
   "cell_type": "markdown",
   "metadata": {},
   "source": [
    "### 7. Split train-test data sets\n",
    "\n",
    "Data set was divided into the standard 4:1 split for training and test. "
   ]
  },
  {
   "cell_type": "code",
   "execution_count": 7,
   "metadata": {},
   "outputs": [
    {
     "name": "stderr",
     "output_type": "stream",
     "text": [
      "/home/ubuntu/anaconda3/lib/python3.6/site-packages/sklearn/model_selection/_split.py:2026: FutureWarning: From version 0.21, test_size will always complement train_size unless both are specified.\n",
      "  FutureWarning)\n"
     ]
    }
   ],
   "source": [
    "from sklearn.model_selection import train_test_split\n",
    "\n",
    "# split train and test\n",
    "X_train, X_test, y_train, y_test = train_test_split(X, y, random_state=0,train_size=0.8)"
   ]
  },
  {
   "cell_type": "markdown",
   "metadata": {},
   "source": [
    "### 8. Hyperparameter tuning"
   ]
  },
  {
   "cell_type": "code",
   "execution_count": 8,
   "metadata": {},
   "outputs": [
    {
     "name": "stderr",
     "output_type": "stream",
     "text": [
      "/home/ubuntu/anaconda3/lib/python3.6/site-packages/sklearn/cross_validation.py:41: DeprecationWarning: This module was deprecated in version 0.18 in favor of the model_selection module into which all the refactored classes and functions are moved. Also note that the interface of the new CV iterators are different from that of this module. This module will be removed in 0.20.\n",
      "  \"This module will be removed in 0.20.\", DeprecationWarning)\n",
      "/home/ubuntu/anaconda3/lib/python3.6/site-packages/sklearn/grid_search.py:42: DeprecationWarning: This module was deprecated in version 0.18 in favor of the model_selection module into which all the refactored classes and functions are moved. This module will be removed in 0.20.\n",
      "  DeprecationWarning)\n"
     ]
    }
   ],
   "source": [
    "from sklearn.model_selection import cross_val_score\n",
    "from sklearn import metrics  \n",
    "from sklearn.grid_search import GridSearchCV"
   ]
  },
  {
   "cell_type": "code",
   "execution_count": 9,
   "metadata": {},
   "outputs": [],
   "source": [
    "from sklearn.model_selection import GridSearchCV\n",
    "\n",
    "class EstimatorSelectionHelper:\n",
    "    \"\"\"\n",
    "    This is a wrapper that takes in parameter ranges and selected \n",
    "    models, performs grid search, and outputs model scores.\n",
    "    \"\"\"\n",
    "    def __init__(self, models, params):\n",
    "        if not set(models.keys()).issubset(set(params.keys())):\n",
    "            missing_params = list(set(models.keys()) - set(params.keys()))\n",
    "            raise ValueError(\"Some estimators are missing parameters: %s\" % missing_params)\n",
    "        self.models = models\n",
    "        self.params = params\n",
    "        self.keys = models.keys()\n",
    "        self.grid_searches = {}\n",
    "\n",
    "    def fit(self, X, y, cv=3, n_jobs=18, verbose=1, scoring=None, refit=False):\n",
    "        for key in self.keys:\n",
    "            print(\"Running GridSearchCV for %s.\" % key)\n",
    "            model = self.models[key]\n",
    "            params = self.params[key]\n",
    "            gs = GridSearchCV(model, params, cv=cv, n_jobs=n_jobs,\n",
    "                              verbose=verbose, scoring=scoring, refit=refit,\n",
    "                              return_train_score=True)\n",
    "            gs.fit(X,y)\n",
    "            self.grid_searches[key] = gs    \n",
    "\n",
    "    def score_summary(self, sort_by='mean_score'):\n",
    "        def row(key, scores, params):\n",
    "            d = {\n",
    "                 'estimator': key,\n",
    "                 'min_score': min(scores),\n",
    "                 'max_score': max(scores),\n",
    "                 'mean_score': np.mean(scores),\n",
    "                 'std_score': np.std(scores),\n",
    "            }\n",
    "            return pd.Series({**params,**d})\n",
    "\n",
    "        rows = []\n",
    "        for k in self.grid_searches:\n",
    "            print(k)\n",
    "            params = self.grid_searches[k].cv_results_['params']\n",
    "            scores = []\n",
    "            for i in range(self.grid_searches[k].cv):\n",
    "                key = \"split{}_test_score\".format(i)\n",
    "                r = self.grid_searches[k].cv_results_[key]        \n",
    "                scores.append(r.reshape(len(params),1))\n",
    "\n",
    "            all_scores = np.hstack(scores)\n",
    "            for p, s in zip(params,all_scores):\n",
    "                rows.append((row(k, s, p)))\n",
    "\n",
    "        df = pd.concat(rows, axis=1).T.sort_values([sort_by], ascending=False)\n",
    "\n",
    "        columns = ['estimator', 'min_score', 'mean_score', 'max_score', 'std_score']\n",
    "        columns = columns + [c for c in df.columns if c not in columns]\n",
    "\n",
    "        return df[columns]"
   ]
  },
  {
   "cell_type": "code",
   "execution_count": 10,
   "metadata": {},
   "outputs": [],
   "source": [
    "from sklearn.ensemble import RandomForestClassifier\n",
    "from sklearn.ensemble import AdaBoostClassifier\n",
    "from xgboost import XGBClassifier\n",
    "from sklearn.svm import SVC\n",
    "from sklearn.ensemble import ExtraTreesClassifier\n",
    "\n",
    "models1 = {\n",
    "    'ExtraTreesClassifier': ExtraTreesClassifier(),\n",
    "    'RandomForestClassifier': RandomForestClassifier(),\n",
    "    'AdaBoostClassifier': AdaBoostClassifier(),\n",
    "    'XGBClassifier': XGBClassifier(),\n",
    "    'SVC': SVC()\n",
    "}\n",
    "\n",
    "params1 = {\n",
    "    'ExtraTreesClassifier': { 'n_estimators': [16, 32] },\n",
    "    'RandomForestClassifier': { 'n_estimators': [16, 32] },\n",
    "    'AdaBoostClassifier':  { 'n_estimators': [16, 32] },\n",
    "    'XGBClassifier': { 'n_estimators': [16, 32], 'learning_rate': [0.8, 1.0] },\n",
    "    'SVC': [\n",
    "        {'kernel': ['linear'], 'C': [0.001, 0.01, 0.1]},\n",
    "    ]\n",
    "}"
   ]
  },
  {
   "cell_type": "code",
   "execution_count": 11,
   "metadata": {},
   "outputs": [],
   "source": [
    "helper1 = EstimatorSelectionHelper(models1, params1)\n",
    "helper1.fit(X_train, y_train, scoring='f1_macro', n_jobs=18)"
   ]
  },
  {
   "cell_type": "code",
   "execution_count": 12,
   "metadata": {},
   "outputs": [],
   "source": [
    "helper1.score_summary(sort_by='max_score')"
   ]
  },
  {
   "cell_type": "markdown",
   "metadata": {},
   "source": [
    "### 9. Model evaluations\n",
    "\n",
    "\n",
    "| estimator\t| min_score\t| mean_score | max_score | std_score | C |kernel | learning_rate | n_estimators |\n",
    "|-----------|-----------|------------|-----------|-----------|---|-------|---------------|--------------|\n",
    "| 3\t| RandomForestClassifier\t| 0.655098\t| 0.657277\t| 0.658536\t| 0.00154728\t| NaN\t| NaN\t| NaN\t| 32 |\n",
    "| 10  | SVC\t| 0.622443\t| 0.623999\t| 0.626721\t| 0.00193167\t| 0.001\t| linear\t| NaN\t| NaN|\n",
    "| 2\t|  RandomForestClassifier\t| 0.618987\t| 0.620894\t| 0.62456\t| 0.00259273\t| NaN\t| NaN\t| NaN\t| 16 |\n",
    "| 1\t|  ExtraTreesClassifier\t| 0.611042\t| 0.615962\t| 0.623342\t| 0.00531411\t| NaN\t| NaN\t| NaN\t| 32 |\n",
    "| 11 | SVC\t| 0.596674\t| 0.597627\t| 0.598637\t| 0.000802158\t| 0.01\t| linear\t| NaN\t| NaN |\n",
    "| 0\t| ExtraTreesClassifier\t| 0.570454\t| 0.580172\t| 0.589435\t| 0.00775566\t| NaN\t| NaN\t| NaN\t| 16 |\n",
    "| 12 | SVC\t| 0.584213\t| 0.585304\t| 0.586462\t| 0.000919383\t| 0.1\t| linear\t| NaN\t| NaN |\n",
    "| 7\t| XGBClassifier\t| 0.0172699\t| 0.035711\t| 0.049727\t| 0.0136149\t| NaN\t| NaN\t| 0.8\t| 32 |\n",
    "| 9\t| XGBClassifier\t| 0.015628\t| 0.0305242\t| 0.0469324\t| 0.0128246\t| NaN\t| NaN\t| 1\t| 32 |\n",
    "| 6\t| XGBClassifier\t| 0.017612\t| 0.0324528\t| 0.0448098\t| 0.0112415\t| NaN\t| NaN\t| 0.8\t| 16 |\n",
    "| 8\t| XGBClassifier\t| 0.0112355\t| 0.0223191\t| 0.0374607\t| 0.0110842\t| NaN\t| NaN\t| 1\t| 16 |\n",
    "| 4\t| AdaBoostClassifier\t| 0.00295974\t| 0.00417767\t| 0.00584784\t| 0.00122166\t| NaN\t| NaN\t| NaN\t| 16 |\n",
    "| 5\t| AdaBoostClassifier\t| 0.00295974\t| 0.00369243\t| 0.00450662\t| 0.000634136\t| NaN\t| NaN\t| NaN\t| 32 |\n",
    "\n",
    "\n",
    "Above is the saved output from the results (to replicate rerun with the sample \"fraction\" variable set to .5 in cell 4 and uncomment and run). From the table we can see that the Random Forest Classifier was the highest performing algorithm in terms of f1 score averaged across classes (i.e. f1_macro). The corresponding paramaters indicate a minimum of 32 estimator trees.\n",
    "\n",
    "Next I took the Random Forest Classifier and fined-tuned its parameters using grid search to see if I could improve on the 65.6% score. To do this I increased the sample from 25% to 50% (adjusted in a previous cell and rerun all) and examined a range of other parameters included maximum depth of trees and the minimum required number of samples in terminal (leaf)."
   ]
  },
  {
   "cell_type": "code",
   "execution_count": 13,
   "metadata": {},
   "outputs": [],
   "source": [
    "# Use a grid over parameters of interest\n",
    "from sklearn.ensemble import RandomForestClassifier as rf\n",
    "\n",
    "clf_rf = RandomForestClassifier(n_jobs=18,max_features='sqrt', oob_score = True) \n",
    "\n",
    "param_grid = { \n",
    "           \"n_estimators\" : [32, 64, 128],\n",
    "           \"max_depth\" : [1,10,30],\n",
    "           \"min_samples_leaf\" : [1,4,10]}\n",
    " \n",
    "cv_rf = GridSearchCV(estimator=clf_rf, param_grid=param_grid, cv=10)\n",
    "cv_rf.fit(X_train, y_train)\n",
    "print(cv_rf.best_params_)"
   ]
  },
  {
   "cell_type": "code",
   "execution_count": 14,
   "metadata": {},
   "outputs": [
    {
     "name": "stdout",
     "output_type": "stream",
     "text": [
      "accuracy:  0.750888021894835\n",
      "precision:  0.7121197609572583\n",
      "recall:  0.6701853737622584\n",
      "f1:  0.6704888946565392\n"
     ]
    },
    {
     "name": "stderr",
     "output_type": "stream",
     "text": [
      "/home/ubuntu/anaconda3/lib/python3.6/site-packages/sklearn/metrics/classification.py:1135: UndefinedMetricWarning: Precision is ill-defined and being set to 0.0 in labels with no predicted samples.\n",
      "  'precision', 'predicted', average, warn_for)\n",
      "/home/ubuntu/anaconda3/lib/python3.6/site-packages/sklearn/metrics/classification.py:1135: UndefinedMetricWarning: F-score is ill-defined and being set to 0.0 in labels with no predicted samples.\n",
      "  'precision', 'predicted', average, warn_for)\n"
     ]
    }
   ],
   "source": [
    "# fit xtra\n",
    "clf_rf = RandomForestClassifier(n_estimators=256,n_jobs=18,max_depth=30,min_samples_leaf=1,max_features='sqrt', oob_score = True)\n",
    "clf_rf.fit(X_train, y_train)\n",
    "y_pred = clf_rf.predict(X_test)\n",
    "\n",
    "print(\"accuracy: \", metrics.accuracy_score(y_test, y_pred))  \n",
    "print(\"precision: \", metrics.precision_score(y_test, y_pred, average='macro'))  \n",
    "print(\"recall: \", metrics.recall_score(y_test, y_pred, average='macro'))  \n",
    "print(\"f1: \", metrics.f1_score(y_test, y_pred, average='macro'))  "
   ]
  },
  {
   "cell_type": "code",
   "execution_count": 44,
   "metadata": {},
   "outputs": [
    {
     "data": {
      "text/plain": [
       "<matplotlib.axes._subplots.AxesSubplot at 0x7f9fc1103ef0>"
      ]
     },
     "execution_count": 44,
     "metadata": {},
     "output_type": "execute_result"
    },
    {
     "data": {
      "image/png": "[encoded data removed]",
      "text/plain": [
       "<Figure size 1440x1152 with 2 Axes>"
      ]
     },
     "metadata": {},
     "output_type": "display_data"
    }
   ],
   "source": [
    "%matplotlib inline\n",
    "import seaborn as sns\n",
    "import pandas as pd\n",
    "import matplotlib.pyplot as plt\n",
    "\n",
    "cm = confusion_matrix(y_test, y_pred)\n",
    "\n",
    "df_cm = pd.DataFrame(cm, range(cm.shape[0]),\n",
    "                  range(cm.shape[0]))\n",
    "plt.figure(figsize = (20,16))\n",
    "sn.set(font_scale=1.4)#for label size\n",
    "sn.heatmap(df_cm, annot=False,annot_kws={\"size\": 16}, vmin=0, vmax=20)# font size"
   ]
  },
  {
   "cell_type": "markdown",
   "metadata": {},
   "source": [
    "### 10. Conclusions\n",
    "\n",
    "* The results of model comparisons and hyperparameter tuning indicated the best performing model of those tested was a Random Forest Classifier, which achieved an accuracy score of 75.1%. Precision and recall were similar at 71% and 67% respectively. The frequency-weighted average of precision and recall (f1 score) was 67%.\n",
    "\n",
    "\n",
    "* The diagonal of the confusion matrix elements show the number of correct classifications for each class. It also highlights some cases that the classifier had difficulty in predicting e.g. cases between 240-248 (note: these numbers do not correspond to zones; corresponding numbers for each zone are stored in the label_list dict from cell 3.\n",
    "\n",
    "\n",
    "* Future directions: the model could be rerun on the full sample with a larger memory capacity and a higher number of estimators. Also with this increased computational power a non-linear SVM might be expected to increase accuracy, as a linear SVM performed reasonably well here."
   ]
  }
 ],
 "metadata": {
  "kernelspec": {
   "display_name": "Python 3",
   "language": "python",
   "name": "python3"
  },
  "language_info": {
   "codemirror_mode": {
    "name": "ipython",
    "version": 3
   },
   "file_extension": ".py",
   "mimetype": "text/x-python",
   "name": "python",
   "nbconvert_exporter": "python",
   "pygments_lexer": "ipython3",
   "version": "3.6.5"
  }
 },
 "nbformat": 4,
 "nbformat_minor": 2
}
